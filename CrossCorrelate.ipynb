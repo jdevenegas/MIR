{
 "cells": [
  {
   "cell_type": "code",
   "execution_count": 466,
   "id": "4e214d6f-785b-4823-87b9-383d022fc90f",
   "metadata": {},
   "outputs": [
    {
     "name": "stdout",
     "output_type": "stream",
     "text": [
      "5835805e22a345948373bd954162324c 6ccb11160d65423c96d93038b719b902\n"
     ]
    },
    {
     "data": {
      "text/html": [
       "<div>\n",
       "<style scoped>\n",
       "    .dataframe tbody tr th:only-of-type {\n",
       "        vertical-align: middle;\n",
       "    }\n",
       "\n",
       "    .dataframe tbody tr th {\n",
       "        vertical-align: top;\n",
       "    }\n",
       "\n",
       "    .dataframe thead th {\n",
       "        text-align: right;\n",
       "    }\n",
       "</style>\n",
       "<table border=\"1\" class=\"dataframe\">\n",
       "  <thead>\n",
       "    <tr style=\"text-align: right;\">\n",
       "      <th></th>\n",
       "      <th>track_name</th>\n",
       "      <th>track_id</th>\n",
       "      <th>start</th>\n",
       "      <th>duration</th>\n",
       "      <th>end</th>\n",
       "      <th>confidence</th>\n",
       "      <th>loudness_start</th>\n",
       "      <th>loudness_max_time</th>\n",
       "      <th>loudness_max</th>\n",
       "      <th>loudness_end</th>\n",
       "      <th>attack_aggression</th>\n",
       "      <th>pitches</th>\n",
       "      <th>timbre</th>\n",
       "    </tr>\n",
       "  </thead>\n",
       "  <tbody>\n",
       "    <tr>\n",
       "      <th>0</th>\n",
       "      <td>This Must Be the Place (Naive Melody) - 2005 R...</td>\n",
       "      <td>6aBUnkXuCEQQHAlTokv9or</td>\n",
       "      <td>0.00000</td>\n",
       "      <td>0.13392</td>\n",
       "      <td>0.13392</td>\n",
       "      <td>0.0</td>\n",
       "      <td>-60.000</td>\n",
       "      <td>0.00000</td>\n",
       "      <td>-60.000</td>\n",
       "      <td>0.0</td>\n",
       "      <td>NaN</td>\n",
       "      <td>[1.0, 0.977, 0.713, 0.71, 0.654, 0.626, 0.561,...</td>\n",
       "      <td>[0.011, 170.887, 9.19, -28.789, 57.303, -50.12...</td>\n",
       "    </tr>\n",
       "    <tr>\n",
       "      <th>1</th>\n",
       "      <td>This Must Be the Place (Naive Melody) - 2005 R...</td>\n",
       "      <td>6aBUnkXuCEQQHAlTokv9or</td>\n",
       "      <td>0.13392</td>\n",
       "      <td>0.28408</td>\n",
       "      <td>0.41800</td>\n",
       "      <td>1.0</td>\n",
       "      <td>-60.000</td>\n",
       "      <td>0.03978</td>\n",
       "      <td>-10.570</td>\n",
       "      <td>0.0</td>\n",
       "      <td>1242.584213</td>\n",
       "      <td>[0.266, 0.214, 0.459, 0.851, 1.0, 0.442, 0.382...</td>\n",
       "      <td>[33.232, 73.877, -196.871, 126.219, 17.257, 11...</td>\n",
       "    </tr>\n",
       "    <tr>\n",
       "      <th>2</th>\n",
       "      <td>This Must Be the Place (Naive Melody) - 2005 R...</td>\n",
       "      <td>6aBUnkXuCEQQHAlTokv9or</td>\n",
       "      <td>0.41800</td>\n",
       "      <td>0.27814</td>\n",
       "      <td>0.69614</td>\n",
       "      <td>1.0</td>\n",
       "      <td>-42.018</td>\n",
       "      <td>0.01052</td>\n",
       "      <td>-6.792</td>\n",
       "      <td>0.0</td>\n",
       "      <td>3348.479087</td>\n",
       "      <td>[0.26, 0.194, 0.253, 0.428, 0.67, 0.449, 0.498...</td>\n",
       "      <td>[39.723, 89.491, -175.686, 179.658, -26.575, -...</td>\n",
       "    </tr>\n",
       "  </tbody>\n",
       "</table>\n",
       "</div>"
      ],
      "text/plain": [
       "                                          track_name                track_id  \\\n",
       "0  This Must Be the Place (Naive Melody) - 2005 R...  6aBUnkXuCEQQHAlTokv9or   \n",
       "1  This Must Be the Place (Naive Melody) - 2005 R...  6aBUnkXuCEQQHAlTokv9or   \n",
       "2  This Must Be the Place (Naive Melody) - 2005 R...  6aBUnkXuCEQQHAlTokv9or   \n",
       "\n",
       "     start  duration      end  confidence  loudness_start  loudness_max_time  \\\n",
       "0  0.00000   0.13392  0.13392         0.0         -60.000            0.00000   \n",
       "1  0.13392   0.28408  0.41800         1.0         -60.000            0.03978   \n",
       "2  0.41800   0.27814  0.69614         1.0         -42.018            0.01052   \n",
       "\n",
       "   loudness_max  loudness_end  attack_aggression  \\\n",
       "0       -60.000           0.0                NaN   \n",
       "1       -10.570           0.0        1242.584213   \n",
       "2        -6.792           0.0        3348.479087   \n",
       "\n",
       "                                             pitches  \\\n",
       "0  [1.0, 0.977, 0.713, 0.71, 0.654, 0.626, 0.561,...   \n",
       "1  [0.266, 0.214, 0.459, 0.851, 1.0, 0.442, 0.382...   \n",
       "2  [0.26, 0.194, 0.253, 0.428, 0.67, 0.449, 0.498...   \n",
       "\n",
       "                                              timbre  \n",
       "0  [0.011, 170.887, 9.19, -28.789, 57.303, -50.12...  \n",
       "1  [33.232, 73.877, -196.871, 126.219, 17.257, 11...  \n",
       "2  [39.723, 89.491, -175.686, 179.658, -26.575, -...  "
      ]
     },
     "execution_count": 466,
     "metadata": {},
     "output_type": "execute_result"
    }
   ],
   "source": [
    "import pandas as pd\n",
    "import numpy as np\n",
    "import json\n",
    "from dotenv import load_dotenv\n",
    "import os \n",
    "import base64\n",
    "import json\n",
    "from requests import post, get\n",
    "\n",
    "import time\n",
    "import numpy as np\n",
    "import pandas as pd\n",
    "\n",
    "\n",
    "#loads env vars located in .env file\n",
    "load_dotenv()\n",
    "\n",
    "#get and print client id and secret\n",
    "client_id = os.getenv(\"CLIENT_ID\")\n",
    "client_secret = os.getenv(\"CLIENT_SECRET\")\n",
    "print(client_id, client_secret)\n",
    "\n",
    "ROOT_API_URL = \"https://api.spotify.com/v1\"\n",
    "\n",
    "\n",
    "\n",
    "def str_list_to_array(str_list):\n",
    "    return np.array([json.loads(v) for v in str_list])\n",
    "\n",
    "track_info = pd.read_csv('./data/AudioFeats_MustBeThePlace.csv')\n",
    "audio_df1 = pd.read_csv('./data/aud_analys_data_MustBePlace.csv')\n",
    "audio_df1.head(3)"
   ]
  },
  {
   "cell_type": "code",
   "execution_count": 467,
   "id": "d371c3ab-3fb9-412a-a079-dfb7f6387f77",
   "metadata": {},
   "outputs": [],
   "source": [
    "def get_token():\n",
    "    auth_string = client_id+\":\"+client_secret\n",
    "    auth_bytes = auth_string.encode(\"utf-8\")\n",
    "    auth_base64 = str(base64.b64encode(auth_bytes), \"utf-8\")\n",
    "\n",
    "    url=\"https://accounts.spotify.com/api/token\"\n",
    "    headers= {\n",
    "        \"Authorization\": \"Basic \" + auth_base64,\n",
    "        \"Content-Type\": \"application/x-www-form-urlencoded\"\n",
    "    }\n",
    "    data = {\"grant_type\": \"client_credentials\"}\n",
    "    result = post(url, headers=headers, data=data)\n",
    "    js_result = json.loads(result.content)\n",
    "    token=js_result[\"access_token\"]\n",
    "    return token\n",
    "\n",
    "def get_auth_header(token):\n",
    "    return {\"Authorization\": \"Bearer \" + token}\n"
   ]
  },
  {
   "cell_type": "code",
   "execution_count": 468,
   "id": "ff76a2ef-6bd1-4383-ad34-ee7555fc5961",
   "metadata": {},
   "outputs": [],
   "source": [
    "# timbre_vals=str_list_to_array(audio_df1.timbre.tolist())\n",
    "# timbre_df = pd.DataFrame(data=timbre_vals, columns=['timbre_%d'%i for i in range(timbre_vals.shape[1])])\n",
    "scale_timbre=True\n",
    "timbre_vals=[]\n",
    "pitch_vals=[]\n",
    "for track_id in track_info.track_id.tolist():\n",
    "    timbre = audio_df1[audio_df1.track_id==track_id].timbre.values.tolist()\n",
    "    timbre = str_list_to_array(timbre)\n",
    "    if scale_timbre:\n",
    "        timbre = (timbre - timbre.min(0)) / (timbre.max(0) - timbre.min(0))\n",
    "    timbre_vals += [timbre]"
   ]
  },
  {
   "cell_type": "code",
   "execution_count": null,
   "id": "7178a230-9b17-4387-bf82-4cc522a23df6",
   "metadata": {},
   "outputs": [],
   "source": []
  },
  {
   "cell_type": "code",
   "execution_count": 469,
   "id": "222ecb85-ee30-4848-a4e1-4199bcf7f4f2",
   "metadata": {},
   "outputs": [
    {
     "ename": "KeyboardInterrupt",
     "evalue": "",
     "output_type": "error",
     "traceback": [
      "\u001b[0;31m---------------------------------------------------------------------------\u001b[0m",
      "\u001b[0;31mKeyboardInterrupt\u001b[0m                         Traceback (most recent call last)",
      "Cell \u001b[0;32mIn[469], line 26\u001b[0m\n\u001b[1;32m     24\u001b[0m     x_segment \u001b[38;5;241m=\u001b[39m x[:,k][lag:lag \u001b[38;5;241m+\u001b[39m \u001b[38;5;28mlen\u001b[39m(y)]\n\u001b[1;32m     25\u001b[0m     \u001b[38;5;66;03m# Calculate cross-correlation between x and the selected segment of y\u001b[39;00m\n\u001b[0;32m---> 26\u001b[0m     cross_corr_value \u001b[38;5;241m=\u001b[39m \u001b[43mnp\u001b[49m\u001b[38;5;241;43m.\u001b[39;49m\u001b[43mcorrelate\u001b[49m\u001b[43m(\u001b[49m\u001b[43my\u001b[49m\u001b[43m[\u001b[49m\u001b[43m:\u001b[49m\u001b[43m,\u001b[49m\u001b[43mk\u001b[49m\u001b[43m]\u001b[49m\u001b[43m,\u001b[49m\u001b[43m \u001b[49m\u001b[43mx_segment\u001b[49m\u001b[43m)\u001b[49m[\u001b[38;5;241m0\u001b[39m]\n\u001b[1;32m     27\u001b[0m     cross_corr_values\u001b[38;5;241m.\u001b[39mappend(cross_corr_value)\n\u001b[1;32m     28\u001b[0m cross_corr_values\u001b[38;5;241m=\u001b[39mnp\u001b[38;5;241m.\u001b[39marray(cross_corr_values)\n",
      "File \u001b[0;32m<__array_function__ internals>:200\u001b[0m, in \u001b[0;36mcorrelate\u001b[0;34m(*args, **kwargs)\u001b[0m\n",
      "\u001b[0;31mKeyboardInterrupt\u001b[0m: "
     ]
    }
   ],
   "source": [
    "CC = []\n",
    "C = np.ones((len(timbre_vals),len(timbre_vals))) * np.inf\n",
    "\n",
    "for k in range(12):\n",
    "    for i in range(len(timbre_vals)):\n",
    "        for j in range(i+1,len(timbre_vals)):\n",
    "            if len(timbre_vals[i]) > len(timbre_vals[j]):\n",
    "                x = timbre_vals[i]\n",
    "                y = timbre_vals[j]\n",
    "            else:\n",
    "                x = timbre_vals[j]\n",
    "                y = timbre_vals[i]\n",
    "                \n",
    "            \n",
    "            # Calculate the maximum possible lag\n",
    "            max_lag = len(x) - len(y) + 1\n",
    "            \n",
    "            # Initialize array to store cross-correlation values for each lag\n",
    "            cross_corr_values = []\n",
    "            \n",
    "            # Calculate cross-correlation for each possible alignment\n",
    "            for lag in range(max_lag):\n",
    "                # Select the corresponding segment of y\n",
    "                x_segment = x[:,k][lag:lag + len(y)]\n",
    "                # Calculate cross-correlation between x and the selected segment of y\n",
    "                cross_corr_value = np.correlate(y[:,k], x_segment)[0]\n",
    "                cross_corr_values.append(cross_corr_value)\n",
    "            cross_corr_values=np.array(cross_corr_values)\n",
    "            # print(i, j)\n",
    "            C[i,j] = cross_corr_values.mean()\n",
    "    CC += [C]\n",
    "        "
   ]
  },
  {
   "cell_type": "code",
   "execution_count": null,
   "id": "0802ec9b-42c2-4443-9dc5-36c27ba46a47",
   "metadata": {},
   "outputs": [],
   "source": [
    "CC_aggregate = np.array(CC).mean(0)\n",
    "CC_aggregate"
   ]
  },
  {
   "cell_type": "code",
   "execution_count": null,
   "id": "cc1cb09a-32c9-425c-b125-bf03e77d1128",
   "metadata": {},
   "outputs": [],
   "source": [
    "np.argmax(np.nan_to_num(CC_aggregate, posinf=0), axis=1)\n",
    "ix_inspect = [np.unravel_index(ix, CC_aggregate.shape) for ix in np.argsort(np.nan_to_num(CC_aggregate, posinf=0).flatten())[::-1][:4]]\n",
    "track_names_dis = track_info.iloc[list(sum(ix_inspect, ())),:].track_name.unique().tolist()\n",
    "track_ids_dis = track_info.iloc[list(sum(ix_inspect, ())),:].track_id.unique().tolist()\n",
    "track_names_dis"
   ]
  },
  {
   "cell_type": "code",
   "execution_count": null,
   "id": "a27af43c-d69c-4601-a66b-cfc56abc6677",
   "metadata": {},
   "outputs": [],
   "source": [
    "unique, counts = np.unique(np.argmin(CC_aggregate, axis=1), return_counts=True)\n",
    "print(unique)\n",
    "print(counts)"
   ]
  },
  {
   "cell_type": "code",
   "execution_count": null,
   "id": "dce39398-d414-45a3-b627-6fb271a69cb0",
   "metadata": {},
   "outputs": [],
   "source": [
    "track_info.iloc[[ 0, 23, 35, 40, 41, 45, 63, 71, 74, 76],:]"
   ]
  },
  {
   "cell_type": "code",
   "execution_count": null,
   "id": "10d26e3d-7b1c-4eeb-8d28-8bca6eb78e6f",
   "metadata": {},
   "outputs": [],
   "source": [
    "# np.unravel_index(np.argmin(CC_aggregate), CC_aggregate.shape)\n",
    "ix_inspect = [np.unravel_index(ix, CC_aggregate.shape) for ix in np.argsort(CC_aggregate.flatten())[:2]]\n",
    "print(ix_inspect)\n",
    "track_info.iloc[list(sum(ix_inspect, ())),:]"
   ]
  },
  {
   "cell_type": "code",
   "execution_count": null,
   "id": "591cf6d4-d1ba-4c4c-962b-e1a64a69b3bf",
   "metadata": {},
   "outputs": [],
   "source": [
    "np.argsort(np.nan_to_num(CC_aggregate[[35, 40, 23]], posinf=0).flatten())[::-1][:2]"
   ]
  },
  {
   "cell_type": "code",
   "execution_count": null,
   "id": "105734d6-7ed5-4ada-b998-42c779d33509",
   "metadata": {},
   "outputs": [],
   "source": [
    "\n",
    "np.argmax(np.nan_to_num(CC_aggregate[[35, 40, 23]], posinf=0), axis=1)\n",
    "track_names = track_info.iloc[list(sum(ix_inspect, ()))+[50],:].track_name.unique().tolist()\n",
    "track_ids = track_info.iloc[list(sum(ix_inspect, ()))+[50],:].track_id.unique().tolist()\n",
    "track_info.iloc[list(sum(ix_inspect, ()))+[50],:]"
   ]
  },
  {
   "cell_type": "code",
   "execution_count": null,
   "id": "7b524caf-3fb4-4ffa-97c9-34ea948482b0",
   "metadata": {},
   "outputs": [],
   "source": [
    "track_names=track_info.iloc[list(sum(ix_inspect, ())),:].track_name.unique().tolist()\n",
    "track_ids = track_info.iloc[list(sum(ix_inspect, ())),:].track_id.unique().tolist()\n",
    "print(track_names)"
   ]
  },
  {
   "cell_type": "code",
   "execution_count": null,
   "id": "78f3b24b-43d7-4e9f-a533-c6db65988396",
   "metadata": {},
   "outputs": [],
   "source": [
    "track_names_dis\n",
    "json.loads(result.content)"
   ]
  },
  {
   "cell_type": "code",
   "execution_count": 483,
   "id": "37bf8c61-6437-4500-97d2-527e0e286000",
   "metadata": {},
   "outputs": [
    {
     "name": "stdout",
     "output_type": "stream",
     "text": [
      "BQC4SzpLTvClKmpvtSdsRpsbFibG-exS4TdFWmojc1qtTwmJTheTYeY-xXIJrmOrtr1Gj3O1pOUf8agelzxTuSBqaM-O_lgyz-V1msc9zshROGHBID4\n"
     ]
    }
   ],
   "source": [
    "token=get_token()\n",
    "print(token)\n",
    "headers = get_auth_header(token)"
   ]
  },
  {
   "cell_type": "code",
   "execution_count": null,
   "id": "28d76bcb-aa65-49b7-b22b-15d4fbcfe60a",
   "metadata": {},
   "outputs": [],
   "source": [
    "track_dict = {'artist_name': ['Sasha', 'Sahar', 'Blackcloud'],\n",
    "              'artist_id': ['6u4jLGLPuarS3i2XWHVxoS', '3b7TXhgeS7YpSumMEwbFJO', '6K0Y096jSf23jHzPtClzPT'],\n",
    "              'track_name': ['Dry & High', 'Egomania', 'Six Nine - Wolfson Remix'],\n",
    "              'track_id': ['284FKz13AitOQjOVivE7ra', '1M7c6Ye67O9x5x9UoDXVky', '0pThX0xfbMPk0W8kGqZgc4']\n",
    "}\n",
    "\n",
    "artist_ids = track_dict['artist_id']\n",
    "track_ids = track_dict['track_id']+['5BG5t49EldKlQsRAMGlUv0', '66ftD6ZsTzLLxYvN5l1vyr']\n",
    "\n",
    "track_names = ['Shine', 'Egomania']\n",
    "track_ids = ['3rQGZruQVgRv9ulpLYaKED', '1M7c6Ye67O9x5x9UoDXVky', '0pThX0xfbMPk0W8kGqZgc4']\n",
    "pd.DataFrame(track_dict)"
   ]
  },
  {
   "cell_type": "code",
   "execution_count": null,
   "id": "83b4e1dc-1bb8-4173-8069-07a41e518ae4",
   "metadata": {},
   "outputs": [],
   "source": []
  },
  {
   "cell_type": "code",
   "execution_count": 492,
   "id": "945cbbb7-f03c-463b-862e-385a6f6078e0",
   "metadata": {},
   "outputs": [],
   "source": [
    "\n",
    "\n",
    "# url = f\"https://api.spotify.com/v1/recommendations?limit=10&seed_tracks={'%2C'.join(track_ids)}&max_popularity=20\"\n",
    "url = f\"https://api.spotify.com/v1/recommendations?limit=5&seed_artists=6u4jLGLPuarS3i2XWHVxoS&seed_tracks={'%2C'.join(track_ids)}&max_popularity=100\"\n",
    "\n",
    "result = get(url, headers=headers)\n",
    "js_result = json.loads(result.content)['tracks']\n"
   ]
  },
  {
   "cell_type": "code",
   "execution_count": 493,
   "id": "77a1a9e8-8782-4dc1-9baf-352aa53732bd",
   "metadata": {},
   "outputs": [
    {
     "data": {
      "text/html": [
       "<div>\n",
       "<style scoped>\n",
       "    .dataframe tbody tr th:only-of-type {\n",
       "        vertical-align: middle;\n",
       "    }\n",
       "\n",
       "    .dataframe tbody tr th {\n",
       "        vertical-align: top;\n",
       "    }\n",
       "\n",
       "    .dataframe thead th {\n",
       "        text-align: right;\n",
       "    }\n",
       "</style>\n",
       "<table border=\"1\" class=\"dataframe\">\n",
       "  <thead>\n",
       "    <tr style=\"text-align: right;\">\n",
       "      <th></th>\n",
       "      <th>popularity</th>\n",
       "      <th>query</th>\n",
       "    </tr>\n",
       "  </thead>\n",
       "  <tbody>\n",
       "    <tr>\n",
       "      <th>0</th>\n",
       "      <td>19</td>\n",
       "      <td>artist:\"Richie Blacker\" track:\"Sesh Gremlins\"</td>\n",
       "    </tr>\n",
       "    <tr>\n",
       "      <th>1</th>\n",
       "      <td>21</td>\n",
       "      <td>artist:\"Alphalife\" track:\"Danke Funk\"</td>\n",
       "    </tr>\n",
       "    <tr>\n",
       "      <th>2</th>\n",
       "      <td>20</td>\n",
       "      <td>artist:\"Sasha\" track:\"Mongoose - Guy J Remix\"</td>\n",
       "    </tr>\n",
       "    <tr>\n",
       "      <th>3</th>\n",
       "      <td>20</td>\n",
       "      <td>artist:\"Tal Fussman\" track:\"The Unknown\"</td>\n",
       "    </tr>\n",
       "    <tr>\n",
       "      <th>4</th>\n",
       "      <td>16</td>\n",
       "      <td>artist:\"Prana Flow\" track:\"Stereovision\"</td>\n",
       "    </tr>\n",
       "  </tbody>\n",
       "</table>\n",
       "</div>"
      ],
      "text/plain": [
       "   popularity                                          query\n",
       "0          19  artist:\"Richie Blacker\" track:\"Sesh Gremlins\"\n",
       "1          21          artist:\"Alphalife\" track:\"Danke Funk\"\n",
       "2          20  artist:\"Sasha\" track:\"Mongoose - Guy J Remix\"\n",
       "3          20       artist:\"Tal Fussman\" track:\"The Unknown\"\n",
       "4          16       artist:\"Prana Flow\" track:\"Stereovision\""
      ]
     },
     "metadata": {},
     "output_type": "display_data"
    }
   ],
   "source": [
    "artists = [res['artists'][0]['name']  for res in js_result]\n",
    "df_track_recs = pd.DataFrame(js_result)[['name', 'popularity']]\n",
    "df_track_recs.insert(0, 'artist', artists)\n",
    "df_track_recs['query'] = [f\"artist:\\042{a}\\042 track:\\042{t}\\042\" for a,t in zip(df_track_recs['artist'].tolist(), df_track_recs['name'].tolist())]\n",
    "pd.set_option('display.max_columns', None)  \n",
    "with pd.option_context('display.max_colwidth', None):\n",
    "    # display(df_track_recs.sort_values('popularity', ascending=True).head(50)[['popularity', 'query']])\n",
    "    display(df_track_recs[['popularity', 'query']])"
   ]
  }
 ],
 "metadata": {
  "kernelspec": {
   "display_name": "Python 3 (ipykernel)",
   "language": "python",
   "name": "python3"
  },
  "language_info": {
   "codemirror_mode": {
    "name": "ipython",
    "version": 3
   },
   "file_extension": ".py",
   "mimetype": "text/x-python",
   "name": "python",
   "nbconvert_exporter": "python",
   "pygments_lexer": "ipython3",
   "version": "3.8.18"
  }
 },
 "nbformat": 4,
 "nbformat_minor": 5
}
