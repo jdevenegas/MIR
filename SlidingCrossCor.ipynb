{
 "cells": [
  {
   "cell_type": "code",
   "execution_count": 126,
   "id": "42562375-496e-4898-bd80-c589ce01dffc",
   "metadata": {},
   "outputs": [],
   "source": [
    "import numpy as np\n",
    "import matplotlib.pyplot as plt\n",
    "\n",
    "# Sample 2D time series data (rows represent time, columns represent features)\n",
    "x = np.array([[1, 2, 3],\n",
    "              [2, 3, 4]])\n",
    "y = np.array([[5, 4, 3],\n",
    "              [4, 3, 2],\n",
    "              [3, 2, 1],\n",
    "              [2, 1, 0]])\n",
    "\n",
    "# a,b = zero_pad(x[:,0], y[:,0])\n",
    "a,b = (x,y) #(x[:,0], y[:,0])\n",
    "\n",
    "a_scale=-1+2*(a-np.min(np.concatenate((a,b)),axis=0)) / (np.max(np.concatenate((a,b)),axis=0)-np.min(np.concatenate((a,b)),axis=0))\n",
    "b_scale=-1+2*(b-np.min(np.concatenate((a,b)),axis=0)) / (np.max(np.concatenate((a,b)),axis=0)-np.min(np.concatenate((a,b)),axis=0))\n",
    "\n",
    "# Calculate the maximum possible lag\n",
    "max_lag = len(y) - len(x) + 1\n",
    "\n",
    "# Initialize array to store cross-correlation values for each lag\n",
    "cross_corr_values = []\n",
    "\n",
    "\n",
    "# Calculate cross-correlation for each possible alignment\n",
    "# for lag in range(max_lag):\n",
    "#     print('lag %d'%lag)\n",
    "#     # Select the corresponding segment of y\n",
    "#     y_segment = y[lag:lag + len(x)]\n",
    "#     # Calculate cross-correlation between x and the selected segment of y\n",
    "#     print(x[:,0])\n",
    "#     print(y_segment[:,0])\n",
    "#     cross_corr_value = np.correlate(x[:,0], y_segment[:,0], mode='valid')\n",
    "#     cross_corr_values.append(cross_corr_value)\n",
    "#     print(cross_corr_value[0])\n"
   ]
  },
  {
   "cell_type": "code",
   "execution_count": 127,
   "id": "64c2c846-3193-42bb-83b7-fbd445a7eb03",
   "metadata": {},
   "outputs": [],
   "source": [
    "def zero_pad(x,y):\n",
    "    len_x = len(x)\n",
    "    len_y = len(y)\n",
    "    if len_x > len_y:\n",
    "        y = np.pad(y, (0,len(x)-len(y)), 'constant', constant_values=(0))\n",
    "    elif len_x < len_y:\n",
    "        x = np.pad(x, (0,len(y)-len(x)), 'constant', constant_values=(0))\n",
    "    return (x, y)\n",
    "\n",
    "def sort_arrays_by_len(x,y):\n",
    "    if len(x) >= len(y):\n",
    "        return x, y\n",
    "    else:\n",
    "        return y, x\n",
    "def sliding_diff(x,y):\n",
    "    x, y = sort_arrays_by_len(x,y)\n",
    "    max_lag = len(x)-len(y)+1\n",
    "    # print(max_lag)\n",
    "    len_y = len(y)\n",
    "    total_diff = 0\n",
    "    for lag in range(max_lag):\n",
    "        # print('lag %d'%lag)\n",
    "        diff = (x[lag:len_y+lag]-y)**2\n",
    "        total_diff += diff.mean()\n",
    "        # print(diff.mean())\n",
    "    return total_diff\n",
    "    \n",
    "\n"
   ]
  },
  {
   "cell_type": "code",
   "execution_count": 128,
   "id": "dc081b02-7315-4c35-a122-6cd5cce9a602",
   "metadata": {},
   "outputs": [
    {
     "data": {
      "text/plain": [
       "13.0"
      ]
     },
     "execution_count": 128,
     "metadata": {},
     "output_type": "execute_result"
    }
   ],
   "source": [
    "sliding_diff(a, b)"
   ]
  },
  {
   "cell_type": "code",
   "execution_count": 135,
   "id": "f3c0cc53-69a0-47e6-9427-011a8a456ebc",
   "metadata": {},
   "outputs": [
    {
     "data": {
      "text/html": [
       "<div>\n",
       "<style scoped>\n",
       "    .dataframe tbody tr th:only-of-type {\n",
       "        vertical-align: middle;\n",
       "    }\n",
       "\n",
       "    .dataframe tbody tr th {\n",
       "        vertical-align: top;\n",
       "    }\n",
       "\n",
       "    .dataframe thead th {\n",
       "        text-align: right;\n",
       "    }\n",
       "</style>\n",
       "<table border=\"1\" class=\"dataframe\">\n",
       "  <thead>\n",
       "    <tr style=\"text-align: right;\">\n",
       "      <th></th>\n",
       "      <th>track_name</th>\n",
       "      <th>track_id</th>\n",
       "      <th>start</th>\n",
       "      <th>duration</th>\n",
       "      <th>end</th>\n",
       "      <th>confidence</th>\n",
       "      <th>loudness_start</th>\n",
       "      <th>loudness_max_time</th>\n",
       "      <th>loudness_max</th>\n",
       "      <th>loudness_end</th>\n",
       "      <th>attack_aggression</th>\n",
       "      <th>pitches</th>\n",
       "      <th>timbre</th>\n",
       "    </tr>\n",
       "  </thead>\n",
       "  <tbody>\n",
       "    <tr>\n",
       "      <th>0</th>\n",
       "      <td>This Must Be the Place (Naive Melody) - 2005 R...</td>\n",
       "      <td>6aBUnkXuCEQQHAlTokv9or</td>\n",
       "      <td>0.00000</td>\n",
       "      <td>0.13392</td>\n",
       "      <td>0.13392</td>\n",
       "      <td>0.0</td>\n",
       "      <td>-60.000</td>\n",
       "      <td>0.00000</td>\n",
       "      <td>-60.000</td>\n",
       "      <td>0.0</td>\n",
       "      <td>NaN</td>\n",
       "      <td>[1.0, 0.977, 0.713, 0.71, 0.654, 0.626, 0.561,...</td>\n",
       "      <td>[0.011, 170.887, 9.19, -28.789, 57.303, -50.12...</td>\n",
       "    </tr>\n",
       "    <tr>\n",
       "      <th>1</th>\n",
       "      <td>This Must Be the Place (Naive Melody) - 2005 R...</td>\n",
       "      <td>6aBUnkXuCEQQHAlTokv9or</td>\n",
       "      <td>0.13392</td>\n",
       "      <td>0.28408</td>\n",
       "      <td>0.41800</td>\n",
       "      <td>1.0</td>\n",
       "      <td>-60.000</td>\n",
       "      <td>0.03978</td>\n",
       "      <td>-10.570</td>\n",
       "      <td>0.0</td>\n",
       "      <td>1242.584213</td>\n",
       "      <td>[0.266, 0.214, 0.459, 0.851, 1.0, 0.442, 0.382...</td>\n",
       "      <td>[33.232, 73.877, -196.871, 126.219, 17.257, 11...</td>\n",
       "    </tr>\n",
       "    <tr>\n",
       "      <th>2</th>\n",
       "      <td>This Must Be the Place (Naive Melody) - 2005 R...</td>\n",
       "      <td>6aBUnkXuCEQQHAlTokv9or</td>\n",
       "      <td>0.41800</td>\n",
       "      <td>0.27814</td>\n",
       "      <td>0.69614</td>\n",
       "      <td>1.0</td>\n",
       "      <td>-42.018</td>\n",
       "      <td>0.01052</td>\n",
       "      <td>-6.792</td>\n",
       "      <td>0.0</td>\n",
       "      <td>3348.479087</td>\n",
       "      <td>[0.26, 0.194, 0.253, 0.428, 0.67, 0.449, 0.498...</td>\n",
       "      <td>[39.723, 89.491, -175.686, 179.658, -26.575, -...</td>\n",
       "    </tr>\n",
       "  </tbody>\n",
       "</table>\n",
       "</div>"
      ],
      "text/plain": [
       "                                          track_name                track_id  \\\n",
       "0  This Must Be the Place (Naive Melody) - 2005 R...  6aBUnkXuCEQQHAlTokv9or   \n",
       "1  This Must Be the Place (Naive Melody) - 2005 R...  6aBUnkXuCEQQHAlTokv9or   \n",
       "2  This Must Be the Place (Naive Melody) - 2005 R...  6aBUnkXuCEQQHAlTokv9or   \n",
       "\n",
       "     start  duration      end  confidence  loudness_start  loudness_max_time  \\\n",
       "0  0.00000   0.13392  0.13392         0.0         -60.000            0.00000   \n",
       "1  0.13392   0.28408  0.41800         1.0         -60.000            0.03978   \n",
       "2  0.41800   0.27814  0.69614         1.0         -42.018            0.01052   \n",
       "\n",
       "   loudness_max  loudness_end  attack_aggression  \\\n",
       "0       -60.000           0.0                NaN   \n",
       "1       -10.570           0.0        1242.584213   \n",
       "2        -6.792           0.0        3348.479087   \n",
       "\n",
       "                                             pitches  \\\n",
       "0  [1.0, 0.977, 0.713, 0.71, 0.654, 0.626, 0.561,...   \n",
       "1  [0.266, 0.214, 0.459, 0.851, 1.0, 0.442, 0.382...   \n",
       "2  [0.26, 0.194, 0.253, 0.428, 0.67, 0.449, 0.498...   \n",
       "\n",
       "                                              timbre  \n",
       "0  [0.011, 170.887, 9.19, -28.789, 57.303, -50.12...  \n",
       "1  [33.232, 73.877, -196.871, 126.219, 17.257, 11...  \n",
       "2  [39.723, 89.491, -175.686, 179.658, -26.575, -...  "
      ]
     },
     "execution_count": 135,
     "metadata": {},
     "output_type": "execute_result"
    }
   ],
   "source": [
    "import pandas as pd\n",
    "import json \n",
    "\n",
    "def str_list_to_array(str_list):\n",
    "    return np.array([json.loads(v) for v in str_list])\n",
    "\n",
    "track_info = pd.read_csv('./data/AudioFeats_MustBeThePlace.csv')\n",
    "audio_df1 = pd.read_csv('./data/aud_analys_data_MustBePlace.csv')\n",
    "audio_df1.head(3)"
   ]
  },
  {
   "cell_type": "code",
   "execution_count": 209,
   "id": "0f79d13d-a08f-4d8b-be0e-58e27e9caf59",
   "metadata": {},
   "outputs": [],
   "source": [
    "# timbre_vals=str_list_to_array(audio_df1.timbre.tolist())\n",
    "# timbre_df = pd.DataFrame(data=timbre_vals, columns=['timbre_%d'%i for i in range(timbre_vals.shape[1])])\n",
    "scale_timbre=False\n",
    "timbre_vals=[]\n",
    "pitch_vals=[]\n",
    "for track_id in track_info.track_id.tolist():\n",
    "    timbre = audio_df1[audio_df1.track_id==track_id].timbre.values.tolist()\n",
    "    timbre = str_list_to_array(timbre)\n",
    "\n",
    "    pitch = audio_df1[audio_df1.track_id==track_id].pitches.values.tolist()\n",
    "    pitch = str_list_to_array(pitch)\n",
    "    \n",
    "    timbre_vals += [timbre]\n",
    "    pitch_vals += [pitch]"
   ]
  },
  {
   "cell_type": "code",
   "execution_count": 210,
   "id": "8473c497-3068-431f-a197-ef3fdfa81252",
   "metadata": {},
   "outputs": [
    {
     "data": {
      "text/plain": [
       "array([[ 1.10000e-02,  1.70887e+02,  9.19000e+00, ...,  5.06000e-01,\n",
       "         4.47000e-01,  9.00000e-02],\n",
       "       [ 3.32320e+01,  7.38770e+01, -1.96871e+02, ...,  2.69000e-01,\n",
       "         8.20000e-02,  2.66000e-01],\n",
       "       [ 3.97230e+01,  8.94910e+01, -1.75686e+02, ...,  6.10000e-01,\n",
       "         1.00000e+00,  4.54000e-01],\n",
       "       ...,\n",
       "       [ 6.13500e+00,  8.23540e+01, -1.17000e-01, ...,  4.06000e-01,\n",
       "         6.59000e-01,  1.74000e-01],\n",
       "       [ 6.61100e+00,  9.07550e+01, -2.81150e+01, ...,  3.26000e-01,\n",
       "         5.42000e-01,  7.97000e-01],\n",
       "       [ 3.37600e+00,  1.17380e+02, -4.03940e+01, ...,  1.00000e+00,\n",
       "         7.31000e-01,  6.32000e-01]])"
      ]
     },
     "execution_count": 210,
     "metadata": {},
     "output_type": "execute_result"
    }
   ],
   "source": [
    "X = [ np.concatenate((t,p),axis=1) for t,p in zip(timbre_vals,pitch_vals)]\n",
    "X[0]"
   ]
  },
  {
   "cell_type": "code",
   "execution_count": 211,
   "id": "74eac8c2-7726-45b3-b994-5004f60b406c",
   "metadata": {},
   "outputs": [],
   "source": [
    "X_max = np.max(np.concatenate(X, axis=0), axis=0)\n",
    "X_min = np.min(np.concatenate(X, axis=0), axis=0)\n"
   ]
  },
  {
   "cell_type": "code",
   "execution_count": 214,
   "id": "d27240f8-debb-41ae-98d5-13a4c7617895",
   "metadata": {},
   "outputs": [
    {
     "data": {
      "text/plain": [
       "array([[1.   , 0.977, 0.713, ..., 0.506, 0.447, 0.09 ],\n",
       "       [0.266, 0.214, 0.459, ..., 0.269, 0.082, 0.266],\n",
       "       [0.26 , 0.194, 0.253, ..., 0.61 , 1.   , 0.454],\n",
       "       ...,\n",
       "       [0.176, 0.148, 0.102, ..., 1.   , 0.247, 0.119],\n",
       "       [0.04 , 0.023, 0.042, ..., 1.   , 0.164, 0.056],\n",
       "       [0.17 , 0.157, 0.086, ..., 1.   , 0.174, 0.113]])"
      ]
     },
     "execution_count": 214,
     "metadata": {},
     "output_type": "execute_result"
    }
   ],
   "source": []
  },
  {
   "cell_type": "code",
   "execution_count": 201,
   "id": "04270955-8073-4a5e-ae29-93e33a767ce6",
   "metadata": {},
   "outputs": [],
   "source": [
    "D = np.ones((len(X),len(X))) * np.inf\n",
    "\n",
    "for i in range(len(X)):\n",
    "    x = X[i]\n",
    "    x = -1+2*(x-X_min)/(X_max-X_min)\n",
    "    for j in range(i+1,len(X)):\n",
    "        y = X[j]\n",
    "        y = -1+2*(y-X_min)/(X_max-X_min)\n",
    "        D[i,j] = sliding_diff(x,y)"
   ]
  },
  {
   "cell_type": "code",
   "execution_count": null,
   "id": "4bba587f-41e8-4bbd-a1f4-a2dac6f3b3de",
   "metadata": {},
   "outputs": [],
   "source": []
  },
  {
   "cell_type": "code",
   "execution_count": 202,
   "id": "f8a2a987-d167-4554-b873-35494b7558c4",
   "metadata": {},
   "outputs": [
    {
     "data": {
      "text/plain": [
       "array([[14, 28, 74, ..., 38, 49,  0],\n",
       "       [64, 15, 72, ..., 49,  1,  0],\n",
       "       [44, 53, 34, ...,  2,  1,  0],\n",
       "       ...,\n",
       "       [75, 76, 73, ..., 20, 27, 38],\n",
       "       [76, 54, 53, ..., 20, 27, 38],\n",
       "       [ 0, 54, 53, ..., 20, 27, 76]])"
      ]
     },
     "execution_count": 202,
     "metadata": {},
     "output_type": "execute_result"
    }
   ],
   "source": [
    "np.argsort(D, axis=1)"
   ]
  },
  {
   "cell_type": "code",
   "execution_count": 203,
   "id": "203d4657-9954-4933-ac09-02408f3a362a",
   "metadata": {},
   "outputs": [
    {
     "data": {
      "text/plain": [
       "array([49, 49, 49, 49, 49, 49, 49, 49, 49, 49, 49, 49, 49, 49, 49, 49, 49,\n",
       "       49, 49, 49, 49, 49, 49, 49, 45, 49, 49, 49, 49, 49, 49, 49, 49, 49,\n",
       "       49, 49, 49, 49, 45, 49, 49, 49, 49, 49, 49, 49, 49, 49, 49, 63, 56,\n",
       "       63, 59, 59, 59, 59, 59, 59, 73, 63, 73, 63, 63, 65, 73, 66, 73, 73,\n",
       "       73, 71, 73, 73, 73, 75, 76, 76,  0])"
      ]
     },
     "execution_count": 203,
     "metadata": {},
     "output_type": "execute_result"
    }
   ],
   "source": [
    "np.argmax(np.nan_to_num(D, posinf=0), axis=1)\n"
   ]
  },
  {
   "cell_type": "code",
   "execution_count": 204,
   "id": "7592bd15-cd7b-4b7d-a20a-2af7863cd6a9",
   "metadata": {},
   "outputs": [
    {
     "name": "stdout",
     "output_type": "stream",
     "text": [
      "[(21, 29), (50, 65), (3, 35), (60, 68), (18, 56)]\n",
      "[0.36908112 0.37127311 0.38320532 0.38852455 0.70142808]\n"
     ]
    }
   ],
   "source": [
    "ix_inspect = [np.unravel_index(ix, D.shape) for ix in np.argsort(D.flatten())[:5]]\n",
    "print(ix_inspect)\n",
    "print(np.sort(D.flatten())[:5])"
   ]
  },
  {
   "cell_type": "code",
   "execution_count": null,
   "id": "7681b260-1fb2-47b8-9a1c-c93039e2c68d",
   "metadata": {},
   "outputs": [],
   "source": []
  },
  {
   "cell_type": "code",
   "execution_count": 206,
   "id": "f93e402d-0b63-4f41-8aaa-efe48da8c8bb",
   "metadata": {},
   "outputs": [
    {
     "data": {
      "text/html": [
       "<div>\n",
       "<style scoped>\n",
       "    .dataframe tbody tr th:only-of-type {\n",
       "        vertical-align: middle;\n",
       "    }\n",
       "\n",
       "    .dataframe tbody tr th {\n",
       "        vertical-align: top;\n",
       "    }\n",
       "\n",
       "    .dataframe thead th {\n",
       "        text-align: right;\n",
       "    }\n",
       "</style>\n",
       "<table border=\"1\" class=\"dataframe\">\n",
       "  <thead>\n",
       "    <tr style=\"text-align: right;\">\n",
       "      <th></th>\n",
       "      <th>track_name</th>\n",
       "      <th>track_id</th>\n",
       "      <th>duration_ms</th>\n",
       "      <th>time_signature</th>\n",
       "      <th>tempo</th>\n",
       "      <th>valence</th>\n",
       "      <th>liveness</th>\n",
       "      <th>instrumentalness</th>\n",
       "      <th>acousticness</th>\n",
       "      <th>speechiness</th>\n",
       "      <th>mode</th>\n",
       "      <th>loudness</th>\n",
       "      <th>key</th>\n",
       "      <th>energy</th>\n",
       "      <th>danceability</th>\n",
       "      <th>loudness_scaled</th>\n",
       "    </tr>\n",
       "  </thead>\n",
       "  <tbody>\n",
       "    <tr>\n",
       "      <th>3</th>\n",
       "      <td>Tieduprightnow</td>\n",
       "      <td>66tkDkPsznE5zIHNt4QkXB</td>\n",
       "      <td>249957</td>\n",
       "      <td>4</td>\n",
       "      <td>102.025</td>\n",
       "      <td>0.738</td>\n",
       "      <td>0.0794</td>\n",
       "      <td>0.001260</td>\n",
       "      <td>0.2910</td>\n",
       "      <td>0.0484</td>\n",
       "      <td>0</td>\n",
       "      <td>-7.986</td>\n",
       "      <td>5</td>\n",
       "      <td>0.533</td>\n",
       "      <td>0.863</td>\n",
       "      <td>0.866900</td>\n",
       "    </tr>\n",
       "    <tr>\n",
       "      <th>35</th>\n",
       "      <td>The Passenger</td>\n",
       "      <td>15BQ7vEDv2LJuh8TxWIhtd</td>\n",
       "      <td>283360</td>\n",
       "      <td>4</td>\n",
       "      <td>134.880</td>\n",
       "      <td>0.696</td>\n",
       "      <td>0.7330</td>\n",
       "      <td>0.000002</td>\n",
       "      <td>0.0947</td>\n",
       "      <td>0.0546</td>\n",
       "      <td>1</td>\n",
       "      <td>-5.413</td>\n",
       "      <td>0</td>\n",
       "      <td>0.889</td>\n",
       "      <td>0.498</td>\n",
       "      <td>0.909783</td>\n",
       "    </tr>\n",
       "  </tbody>\n",
       "</table>\n",
       "</div>"
      ],
      "text/plain": [
       "        track_name                track_id  duration_ms  time_signature  \\\n",
       "3   Tieduprightnow  66tkDkPsznE5zIHNt4QkXB       249957               4   \n",
       "35   The Passenger  15BQ7vEDv2LJuh8TxWIhtd       283360               4   \n",
       "\n",
       "      tempo  valence  liveness  instrumentalness  acousticness  speechiness  \\\n",
       "3   102.025    0.738    0.0794          0.001260        0.2910       0.0484   \n",
       "35  134.880    0.696    0.7330          0.000002        0.0947       0.0546   \n",
       "\n",
       "    mode  loudness  key  energy  danceability  loudness_scaled  \n",
       "3      0    -7.986    5   0.533         0.863         0.866900  \n",
       "35     1    -5.413    0   0.889         0.498         0.909783  "
      ]
     },
     "execution_count": 206,
     "metadata": {},
     "output_type": "execute_result"
    }
   ],
   "source": [
    "track_info.iloc[[3,35],:]"
   ]
  },
  {
   "cell_type": "code",
   "execution_count": null,
   "id": "84621ebd-81fe-4628-9e35-f403d05894f0",
   "metadata": {},
   "outputs": [],
   "source": []
  },
  {
   "cell_type": "code",
   "execution_count": null,
   "id": "823b4997-c7cf-4341-82cc-09b349981cac",
   "metadata": {},
   "outputs": [],
   "source": []
  },
  {
   "cell_type": "code",
   "execution_count": null,
   "id": "b1823ae1-9cb2-4eff-b010-c30ccc1ae308",
   "metadata": {},
   "outputs": [],
   "source": []
  }
 ],
 "metadata": {
  "kernelspec": {
   "display_name": "Python 3 (ipykernel)",
   "language": "python",
   "name": "python3"
  },
  "language_info": {
   "codemirror_mode": {
    "name": "ipython",
    "version": 3
   },
   "file_extension": ".py",
   "mimetype": "text/x-python",
   "name": "python",
   "nbconvert_exporter": "python",
   "pygments_lexer": "ipython3",
   "version": "3.8.18"
  }
 },
 "nbformat": 4,
 "nbformat_minor": 5
}
