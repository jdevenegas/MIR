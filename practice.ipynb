{
 "cells": [
  {
   "cell_type": "code",
   "execution_count": 139,
   "id": "3ea1df79-c66c-4a8b-876d-bba77f8b5e13",
   "metadata": {},
   "outputs": [],
   "source": [
    "import pandas as pd\n",
    "import numpy as np\n",
    "\n",
    "# Sample DataFrame with missing values in multiple columns\n",
    "data = {\n",
    "    'x1': ['[1, 2, 3, 4, 5, 35]', '[2, 4, 6, 8, 10]', '[3, 6, 9, 12, 15]', np.nan, '[5, 10, 15, 20, 25]'],\n",
    "    'x2': [1, np.nan, 3, 4, np.nan],\n",
    "    'x3': [np.nan, 2, 3, np.nan, 5]\n",
    "}\n",
    "df = pd.DataFrame(data)\n",
    "\n",
    "\n",
    "\n",
    "def strls_to_ls(x, element_type = int):\n",
    "    ls_x = x.strip('[]').split(',')\n",
    "    return [element_type(i) for i in ls_x]\n",
    "\n",
    "def avg_str_numls(x):\n",
    "    ls_x = strls_to_ls(x)\n",
    "    avg_x = sum(ls_x) / len(ls_x)\n",
    "    return avg_x\n",
    "\n"
   ]
  },
  {
   "cell_type": "code",
   "execution_count": 140,
   "id": "3fd448ec-7ac5-4fb4-ab25-b168e180e9a0",
   "metadata": {},
   "outputs": [
    {
     "name": "stdout",
     "output_type": "stream",
     "text": [
      "              x1        x2        x3\n",
      "count   4.000000  3.000000  3.000000\n",
      "mean    9.583333  2.666667  3.333333\n",
      "std     3.833333  1.527525  1.527525\n",
      "min     6.000000  1.000000  2.000000\n",
      "25%     7.750000  2.000000  2.500000\n",
      "50%     8.666667  3.000000  3.000000\n",
      "75%    10.500000  3.500000  4.000000\n",
      "max    15.000000  4.000000  5.000000\n"
     ]
    }
   ],
   "source": [
    "#clean\n",
    "# df['x1'] = df['x1'].apply(lambda x: avg_str_numls(x) if isinstance(x, str) else x)\n",
    "df[['x1', 'x2', 'x3']] = df[['x1', 'x2', 'x3']].applymap(lambda x: avg_str_numls(x) if isinstance(x, str) else x)\n",
    "\n",
    "\n",
    "#impute\n",
    "df.fillna(df.mean(0))\n",
    "\n",
    "#summary\n",
    "summary_stats = df.describe(include='all')\n",
    "\n",
    "print(summary_stats)\n",
    "\n",
    "\n",
    "#outliers - IQR method\n",
    "Q1 = df.quantile(0.25)\n",
    "Q3 = df.quantile(0.75)\n",
    "IQR = Q3 - Q1\n",
    "\n",
    "# Identify outliers using IQR\n",
    "outliers_IQR = df[((df < (Q1 - 1.5 * IQR)) | (df > (Q3 + 1.5 * IQR))).any(axis=1)]\n"
   ]
  },
  {
   "cell_type": "code",
   "execution_count": null,
   "id": "f41a00b8-b7b5-4ec3-bc60-73bf54d6d53a",
   "metadata": {},
   "outputs": [],
   "source": []
  },
  {
   "cell_type": "code",
   "execution_count": 135,
   "id": "4b34b66e-fc17-460c-b813-d71e6a7be0c4",
   "metadata": {},
   "outputs": [
    {
     "data": {
      "image/png": "[encoded data removed]",
      "text/plain": [
       "<Figure size 640x480 with 1 Axes>"
      ]
     },
     "metadata": {},
     "output_type": "display_data"
    }
   ],
   "source": [
    "import matplotlib.pyplot as plt\n",
    "\n",
    "# Plot histograms, box plots, or scatter plots to visualize the distribution of data\n",
    "# Identify data points that fall far from the main cluster as potential outliers\n",
    "\n",
    "# Example: Box plot\n",
    "df.boxplot()\n",
    "plt.show()"
   ]
  },
  {
   "cell_type": "code",
   "execution_count": null,
   "id": "5b4b4fd2-ab3d-4669-84ec-84179c222e76",
   "metadata": {},
   "outputs": [],
   "source": [
    "from sklearn.model_selection import train_test_split\n",
    "from sklearn.linear_model import LogisticRegression\n",
    "\n",
    "X_train, X_test, y_train, y_test = train_test_split(X_encoded, y, test_size=0.2, random_state=42)\n",
    "\n",
    "\n",
    "# Train a logistic regression model\n",
    "log_reg = LogisticRegression()\n",
    "log_reg.fit(X_train, y_train)\n",
    "\n",
    "from sklearn.metrics import accuracy_score, classification_report, roc_auc_score\n",
    "\n",
    "# Evaluate the model on the testing data\n",
    "y_pred = log_reg.predict(X_test)\n",
    "accuracy = accuracy_score(y_test, y_pred)\n",
    "print(\"Accuracy:\", accuracy)\n",
    "print(\"Classification Report:\")\n",
    "print(classification_report(y_test, y_pred))\n",
    "roc_auc = roc_auc_score(y_test, y_pred)\n",
    "print(\"ROC AUC Score:\", roc_auc)\n"
   ]
  },
  {
   "cell_type": "code",
   "execution_count": null,
   "id": "412fadef-5d7b-4c55-b83e-53e8c246073d",
   "metadata": {},
   "outputs": [],
   "source": [
    "# Step 5: Tuning with Cross-Validation\n",
    "from sklearn.model_selection import GridSearchCV\n",
    "\n",
    "# Define hyperparameters to tune\n",
    "param_grid = {'C': [0.001, 0.01, 0.1, 1, 10, 100]}\n",
    "\n",
    "# Perform hyperparameter tuning using GridSearchCV with k-fold cross-validation\n",
    "grid_search = GridSearchCV(LogisticRegression(), param_grid, cv=5)\n",
    "grid_search.fit(X_train, y_train)\n",
    "\n",
    "# Select the best hyperparameters\n",
    "best_params = grid_search.best_params_\n",
    "print(\"Best Hyperparameters:\", best_params)"
   ]
  },
  {
   "cell_type": "code",
   "execution_count": null,
   "id": "c2d4a5f4-1131-4d8d-85f6-40484cc16015",
   "metadata": {},
   "outputs": [],
   "source": [
    "# Define the ratios for train/validation/test splits (e.g., 60% train, 20% validation, 20% test)\n",
    "train_ratio = 0.6\n",
    "val_ratio = 0.2\n",
    "test_ratio = 0.2\n",
    "\n",
    "# Get the number of samples in the dataset\n",
    "num_samples = len(X_encoded)\n",
    "\n",
    "# Generate random indices\n",
    "indices = np.arange(num_samples)\n",
    "np.random.shuffle(indices)\n",
    "\n",
    "# Calculate the number of samples for each split\n",
    "num_train_samples = int(train_ratio * num_samples)\n",
    "num_val_samples = int(val_ratio * num_samples)\n",
    "\n",
    "# Split the indices into training, validation, and testing sets\n",
    "train_indices = indices[:num_train_samples]\n",
    "val_indices = indices[num_train_samples:num_train_samples+num_val_samples]\n",
    "test_indices = indices[num_train_samples+num_val_samples:]"
   ]
  },
  {
   "cell_type": "code",
   "execution_count": 3,
   "id": "fab2fc9f-b3c5-4437-b9e8-5f73b9c3f617",
   "metadata": {},
   "outputs": [
    {
     "data": {
      "text/plain": [
       "'AheyBthere'"
      ]
     },
     "execution_count": 3,
     "metadata": {},
     "output_type": "execute_result"
    }
   ],
   "source": [
    "# d = {'A': 'hey', 'B': 'there'}\n",
    "\n",
    "# ''.join([k + v for k,v in d.items()])"
   ]
  },
  {
   "cell_type": "code",
   "execution_count": 147,
   "id": "464e46a2-f5e6-4111-b15f-201ac58ab39f",
   "metadata": {},
   "outputs": [
    {
     "data": {
      "text/html": [
       "<div>\n",
       "<style scoped>\n",
       "    .dataframe tbody tr th:only-of-type {\n",
       "        vertical-align: middle;\n",
       "    }\n",
       "\n",
       "    .dataframe tbody tr th {\n",
       "        vertical-align: top;\n",
       "    }\n",
       "\n",
       "    .dataframe thead th {\n",
       "        text-align: right;\n",
       "    }\n",
       "</style>\n",
       "<table border=\"1\" class=\"dataframe\">\n",
       "  <thead>\n",
       "    <tr style=\"text-align: right;\">\n",
       "      <th></th>\n",
       "      <th>category_A</th>\n",
       "      <th>category_B</th>\n",
       "      <th>category_C</th>\n",
       "    </tr>\n",
       "  </thead>\n",
       "  <tbody>\n",
       "    <tr>\n",
       "      <th>0</th>\n",
       "      <td>1</td>\n",
       "      <td>0</td>\n",
       "      <td>0</td>\n",
       "    </tr>\n",
       "    <tr>\n",
       "      <th>1</th>\n",
       "      <td>0</td>\n",
       "      <td>1</td>\n",
       "      <td>0</td>\n",
       "    </tr>\n",
       "    <tr>\n",
       "      <th>2</th>\n",
       "      <td>0</td>\n",
       "      <td>0</td>\n",
       "      <td>1</td>\n",
       "    </tr>\n",
       "    <tr>\n",
       "      <th>3</th>\n",
       "      <td>1</td>\n",
       "      <td>0</td>\n",
       "      <td>0</td>\n",
       "    </tr>\n",
       "    <tr>\n",
       "      <th>4</th>\n",
       "      <td>0</td>\n",
       "      <td>0</td>\n",
       "      <td>1</td>\n",
       "    </tr>\n",
       "    <tr>\n",
       "      <th>5</th>\n",
       "      <td>0</td>\n",
       "      <td>1</td>\n",
       "      <td>0</td>\n",
       "    </tr>\n",
       "  </tbody>\n",
       "</table>\n",
       "</div>"
      ],
      "text/plain": [
       "   category_A  category_B  category_C\n",
       "0           1           0           0\n",
       "1           0           1           0\n",
       "2           0           0           1\n",
       "3           1           0           0\n",
       "4           0           0           1\n",
       "5           0           1           0"
      ]
     },
     "execution_count": 147,
     "metadata": {},
     "output_type": "execute_result"
    }
   ],
   "source": [
    "import pandas as pd\n",
    "\n",
    "# Example DataFrame with a categorical column\n",
    "data = {\n",
    "    'category': ['A', 'B', 'C', 'A', 'C', 'B']\n",
    "}\n",
    "df = pd.DataFrame(data)\n",
    "\n",
    "# Apply one-hot encoding to the categorical column\n",
    "df_encoded = pd.get_dummies(df, columns=['category']).astype(int)\n",
    "\n",
    "# Concatenate the one-hot encoded columns as row vectors\n",
    "row_vectors = pd.concat([df_encoded], axis=1)\n",
    "\n",
    "row_vectors\n"
   ]
  }
 ],
 "metadata": {
  "kernelspec": {
   "display_name": "Python 3 (ipykernel)",
   "language": "python",
   "name": "python3"
  },
  "language_info": {
   "codemirror_mode": {
    "name": "ipython",
    "version": 3
   },
   "file_extension": ".py",
   "mimetype": "text/x-python",
   "name": "python",
   "nbconvert_exporter": "python",
   "pygments_lexer": "ipython3",
   "version": "3.8.18"
  }
 },
 "nbformat": 4,
 "nbformat_minor": 5
}
